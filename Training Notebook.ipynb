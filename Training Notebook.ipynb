{
 "cells": [
  {
   "cell_type": "markdown",
   "id": "55e46e48-95c5-41a4-b870-e145fd20fc32",
   "metadata": {},
   "source": [
    "# Training Notebook"
   ]
  },
  {
   "cell_type": "code",
   "execution_count": 1,
   "id": "401347a4-150d-4dd4-abc7-2036137eeb24",
   "metadata": {},
   "outputs": [
    {
     "name": "stderr",
     "output_type": "stream",
     "text": [
      "2022-04-14 17:11:12.617650: W tensorflow/stream_executor/platform/default/dso_loader.cc:64] Could not load dynamic library 'libcudart.so.11.0'; dlerror: libcudart.so.11.0: cannot open shared object file: No such file or directory\n",
      "2022-04-14 17:11:12.617669: I tensorflow/stream_executor/cuda/cudart_stub.cc:29] Ignore above cudart dlerror if you do not have a GPU set up on your machine.\n",
      "<frozen importlib._bootstrap>:228: RuntimeWarning: scipy._lib.messagestream.MessageStream size changed, may indicate binary incompatibility. Expected 56 from C header, got 64 from PyObject\n"
     ]
    }
   ],
   "source": [
    "import tensorflow as tf\n",
    "import numpy as np\n",
    "from sklearn.model_selection import train_test_split\n",
    "from MPCNet.dataset import dataset\n",
    "from MPCNet.controller import utils\n",
    "from MPCNet.simulation import simulation\n",
    "from sklearn import preprocessing"
   ]
  },
  {
   "cell_type": "code",
   "execution_count": 2,
   "id": "93fadb26-7af8-4e6e-a83a-d3a7405531c6",
   "metadata": {},
   "outputs": [],
   "source": [
    "X_raw,y = dataset.Dataset.load('data/data5-1000000.csv')"
   ]
  },
  {
   "cell_type": "code",
   "execution_count": 4,
   "id": "1ef64f2a-9729-4608-b9c8-f64b4342eabb",
   "metadata": {},
   "outputs": [],
   "source": [
    "#scaler = preprocessing.StandardScaler().fit(X_raw)\n",
    "#X = scaler.transform(X_raw)\n",
    "X_train, X_test, y_train, y_test = train_test_split(X_raw, y, test_size=0.20, random_state=42)"
   ]
  },
  {
   "cell_type": "code",
   "execution_count": 36,
   "id": "49be4cd3-2b9c-4778-ae5c-17efdabc62b8",
   "metadata": {},
   "outputs": [],
   "source": [
    "normalizationLayer = tf.keras.layers.Normalization(axis=-1, input_dim=5)\n",
    "normalizationLayer.adapt(X_train)"
   ]
  },
  {
   "cell_type": "code",
   "execution_count": 37,
   "id": "210ec59e-0cdb-4fdb-8402-208c9068389e",
   "metadata": {},
   "outputs": [],
   "source": [
    "batch_size, lr, num_epochs = 20000, 0.001, 50\n",
    "loss = tf.keras.losses.MeanSquaredError()\n",
    "trainer = tf.keras.optimizers.Adam(learning_rate=lr)"
   ]
  },
  {
   "cell_type": "code",
   "execution_count": 38,
   "id": "b88c3d67-d918-43b0-8621-97b2d7ae67e0",
   "metadata": {},
   "outputs": [
    {
     "name": "stdout",
     "output_type": "stream",
     "text": [
      "Model: \"sequential_2\"\n",
      "_________________________________________________________________\n",
      " Layer (type)                Output Shape              Param #   \n",
      "=================================================================\n",
      " normalization_2 (Normalizat  (None, 5)                11        \n",
      " ion)                                                            \n",
      "                                                                 \n",
      " dense_14 (Dense)            (None, 64)                384       \n",
      "                                                                 \n",
      " batch_normalization_6 (Batc  (None, 64)               256       \n",
      " hNormalization)                                                 \n",
      "                                                                 \n",
      " dense_15 (Dense)            (None, 64)                4160      \n",
      "                                                                 \n",
      " batch_normalization_7 (Batc  (None, 64)               256       \n",
      " hNormalization)                                                 \n",
      "                                                                 \n",
      " dense_16 (Dense)            (None, 32)                2080      \n",
      "                                                                 \n",
      " batch_normalization_8 (Batc  (None, 32)               128       \n",
      " hNormalization)                                                 \n",
      "                                                                 \n",
      " dense_17 (Dense)            (None, 32)                1056      \n",
      "                                                                 \n",
      " dense_18 (Dense)            (None, 16)                528       \n",
      "                                                                 \n",
      " dense_19 (Dense)            (None, 8)                 136       \n",
      "                                                                 \n",
      " dense_20 (Dense)            (None, 2)                 18        \n",
      "                                                                 \n",
      "=================================================================\n",
      "Total params: 9,013\n",
      "Trainable params: 8,682\n",
      "Non-trainable params: 331\n",
      "_________________________________________________________________\n"
     ]
    }
   ],
   "source": [
    "net = tf.keras.models.Sequential([\n",
    "    normalizationLayer,\n",
    "    tf.keras.layers.Dense(64, activation='relu'),\n",
    "    tf.keras.layers.BatchNormalization(),\n",
    "    tf.keras.layers.Dense(64, activation='relu'),\n",
    "    tf.keras.layers.BatchNormalization(),\n",
    "    tf.keras.layers.Dense(32, activation='relu'),\n",
    "    tf.keras.layers.BatchNormalization(),\n",
    "    tf.keras.layers.Dense(32, activation='relu'),\n",
    "    tf.keras.layers.Dense(16, activation='relu'),\n",
    "    tf.keras.layers.Dense(8, activation='relu'),\n",
    "    tf.keras.layers.Dense(2)\n",
    "])\n",
    "net.summary()"
   ]
  },
  {
   "cell_type": "code",
   "execution_count": 39,
   "id": "8f3da4f0-47b8-4e74-90f8-8fb4fed838dc",
   "metadata": {
    "scrolled": true,
    "tags": []
   },
   "outputs": [
    {
     "name": "stdout",
     "output_type": "stream",
     "text": [
      "Epoch 1/50\n",
      "36/36 [==============================] - 2s 28ms/step - loss: 0.4597 - val_loss: 0.6647\n",
      "Epoch 2/50\n",
      "36/36 [==============================] - 1s 25ms/step - loss: 0.2161 - val_loss: 0.4945\n",
      "Epoch 3/50\n",
      "36/36 [==============================] - 1s 25ms/step - loss: 0.1451 - val_loss: 0.3720\n",
      "Epoch 4/50\n",
      "36/36 [==============================] - 1s 25ms/step - loss: 0.1303 - val_loss: 0.2984\n",
      "Epoch 5/50\n",
      "36/36 [==============================] - 1s 24ms/step - loss: 0.1240 - val_loss: 0.2504\n",
      "Epoch 6/50\n",
      "36/36 [==============================] - 1s 25ms/step - loss: 0.1199 - val_loss: 0.2141\n",
      "Epoch 7/50\n",
      "36/36 [==============================] - 1s 25ms/step - loss: 0.1170 - val_loss: 0.1833\n",
      "Epoch 8/50\n",
      "36/36 [==============================] - 1s 25ms/step - loss: 0.1148 - val_loss: 0.1613\n",
      "Epoch 9/50\n",
      "36/36 [==============================] - 1s 25ms/step - loss: 0.1129 - val_loss: 0.1470\n",
      "Epoch 10/50\n",
      "36/36 [==============================] - 1s 25ms/step - loss: 0.1112 - val_loss: 0.1318\n",
      "Epoch 11/50\n",
      "36/36 [==============================] - 1s 25ms/step - loss: 0.1097 - val_loss: 0.1249\n",
      "Epoch 12/50\n",
      "36/36 [==============================] - 1s 25ms/step - loss: 0.1084 - val_loss: 0.1188\n",
      "Epoch 13/50\n",
      "36/36 [==============================] - 1s 25ms/step - loss: 0.1074 - val_loss: 0.1141\n",
      "Epoch 14/50\n",
      "36/36 [==============================] - 1s 25ms/step - loss: 0.1060 - val_loss: 0.1121\n",
      "Epoch 15/50\n",
      "36/36 [==============================] - 1s 25ms/step - loss: 0.1050 - val_loss: 0.1108\n",
      "Epoch 16/50\n",
      "36/36 [==============================] - 1s 25ms/step - loss: 0.1040 - val_loss: 0.1092\n",
      "Epoch 17/50\n",
      "36/36 [==============================] - 1s 25ms/step - loss: 0.1035 - val_loss: 0.1078\n",
      "Epoch 18/50\n",
      "36/36 [==============================] - 1s 25ms/step - loss: 0.1025 - val_loss: 0.1049\n",
      "Epoch 19/50\n",
      "36/36 [==============================] - 1s 25ms/step - loss: 0.1015 - val_loss: 0.1047\n",
      "Epoch 20/50\n",
      "36/36 [==============================] - 1s 25ms/step - loss: 0.1009 - val_loss: 0.1045\n",
      "Epoch 21/50\n",
      "36/36 [==============================] - 1s 25ms/step - loss: 0.1001 - val_loss: 0.1032\n",
      "Epoch 22/50\n",
      "36/36 [==============================] - 1s 25ms/step - loss: 0.0993 - val_loss: 0.1022\n",
      "Epoch 23/50\n",
      "36/36 [==============================] - 1s 25ms/step - loss: 0.0988 - val_loss: 0.1002\n",
      "Epoch 24/50\n",
      "36/36 [==============================] - 1s 25ms/step - loss: 0.0980 - val_loss: 0.0998\n",
      "Epoch 25/50\n",
      "36/36 [==============================] - 1s 25ms/step - loss: 0.0974 - val_loss: 0.0994\n",
      "Epoch 26/50\n",
      "36/36 [==============================] - 1s 25ms/step - loss: 0.0970 - val_loss: 0.0987\n",
      "Epoch 27/50\n",
      "36/36 [==============================] - 1s 25ms/step - loss: 0.0965 - val_loss: 0.0971\n",
      "Epoch 28/50\n",
      "36/36 [==============================] - 1s 25ms/step - loss: 0.0957 - val_loss: 0.0973\n",
      "Epoch 29/50\n",
      "36/36 [==============================] - 1s 25ms/step - loss: 0.0954 - val_loss: 0.0971\n",
      "Epoch 30/50\n",
      "36/36 [==============================] - 1s 25ms/step - loss: 0.0948 - val_loss: 0.0957\n",
      "Epoch 31/50\n",
      "36/36 [==============================] - 1s 25ms/step - loss: 0.0946 - val_loss: 0.0956\n",
      "Epoch 32/50\n",
      "36/36 [==============================] - 1s 24ms/step - loss: 0.0942 - val_loss: 0.0962\n",
      "Epoch 33/50\n",
      "36/36 [==============================] - 1s 25ms/step - loss: 0.0936 - val_loss: 0.0941\n",
      "Epoch 34/50\n",
      "36/36 [==============================] - 1s 25ms/step - loss: 0.0933 - val_loss: 0.0936\n",
      "Epoch 35/50\n",
      "36/36 [==============================] - 1s 25ms/step - loss: 0.0929 - val_loss: 0.0934\n",
      "Epoch 36/50\n",
      "36/36 [==============================] - 1s 25ms/step - loss: 0.0924 - val_loss: 0.0927\n",
      "Epoch 37/50\n",
      "36/36 [==============================] - 1s 25ms/step - loss: 0.0919 - val_loss: 0.0932\n",
      "Epoch 38/50\n",
      "36/36 [==============================] - 1s 25ms/step - loss: 0.0918 - val_loss: 0.0928\n",
      "Epoch 39/50\n",
      "36/36 [==============================] - 1s 25ms/step - loss: 0.0919 - val_loss: 0.0917\n",
      "Epoch 40/50\n",
      "36/36 [==============================] - 1s 25ms/step - loss: 0.0909 - val_loss: 0.0908\n",
      "Epoch 41/50\n",
      "36/36 [==============================] - 1s 25ms/step - loss: 0.0910 - val_loss: 0.0916\n",
      "Epoch 42/50\n",
      "36/36 [==============================] - 1s 25ms/step - loss: 0.0912 - val_loss: 0.0905\n",
      "Epoch 43/50\n",
      "36/36 [==============================] - 1s 25ms/step - loss: 0.0901 - val_loss: 0.0897\n",
      "Epoch 44/50\n",
      "36/36 [==============================] - 1s 25ms/step - loss: 0.0900 - val_loss: 0.0916\n",
      "Epoch 45/50\n",
      "36/36 [==============================] - 1s 25ms/step - loss: 0.0903 - val_loss: 0.0906\n",
      "Epoch 46/50\n",
      "36/36 [==============================] - 1s 25ms/step - loss: 0.0897 - val_loss: 0.0891\n",
      "Epoch 47/50\n",
      "36/36 [==============================] - 1s 25ms/step - loss: 0.0891 - val_loss: 0.0902\n",
      "Epoch 48/50\n",
      "36/36 [==============================] - 1s 25ms/step - loss: 0.0892 - val_loss: 0.0891\n",
      "Epoch 49/50\n",
      "36/36 [==============================] - 1s 25ms/step - loss: 0.0892 - val_loss: 0.0898\n",
      "Epoch 50/50\n",
      "36/36 [==============================] - 1s 25ms/step - loss: 0.0886 - val_loss: 0.0886\n"
     ]
    },
    {
     "data": {
      "text/plain": [
       "<keras.callbacks.History at 0x7f34c1ec7940>"
      ]
     },
     "execution_count": 39,
     "metadata": {},
     "output_type": "execute_result"
    }
   ],
   "source": [
    "net.compile(trainer, loss)\n",
    "net.fit(\n",
    "    x = X_train,\n",
    "    y = y_train,\n",
    "    batch_size=batch_size,\n",
    "    epochs=num_epochs,\n",
    "    validation_split=0.1,\n",
    "    use_multiprocessing=True)"
   ]
  },
  {
   "cell_type": "code",
   "execution_count": 40,
   "id": "10850a00-5a2b-4ebc-8e01-a697d3b1a7c3",
   "metadata": {},
   "outputs": [
    {
     "name": "stdout",
     "output_type": "stream",
     "text": [
      "6250/6250 [==============================] - 15s 2ms/step - loss: 0.0900\n"
     ]
    },
    {
     "data": {
      "text/plain": [
       "0.09002034366130829"
      ]
     },
     "execution_count": 40,
     "metadata": {},
     "output_type": "execute_result"
    }
   ],
   "source": [
    "net.evaluate(x=X_test, y=y_test)"
   ]
  },
  {
   "cell_type": "code",
   "execution_count": 41,
   "id": "07151698-d52c-4716-8522-3c516a6e78dd",
   "metadata": {},
   "outputs": [],
   "source": [
    "net.save('model.hdf5')"
   ]
  },
  {
   "cell_type": "code",
   "execution_count": 42,
   "id": "9731516d-0da9-4f5a-ba39-5da5b2a67b57",
   "metadata": {},
   "outputs": [],
   "source": [
    "loaded_model = tf.keras.models.load_model('model.hdf5')\n",
    "def nnController(initialState, finalState):\n",
    "    relativeInitial, relativeFinal = utils.absoluteToRelative(initialState, finalState)\n",
    "    inputVector = tf.constant([\n",
    "        relativeInitial[0],\n",
    "        relativeFinal[0],\n",
    "        relativeFinal[1],\n",
    "        relativeFinal[2],\n",
    "        relativeFinal[3]\n",
    "    ], shape=(1,5))\n",
    "    #normalizedInput = scaler.transform(inputVector)\n",
    "    predictedControl = loaded_model.predict(inputVector)\n",
    "    return np.array([predictedControl[0][0], predictedControl[0][1]], dtype=np.double)"
   ]
  },
  {
   "cell_type": "code",
   "execution_count": 43,
   "id": "c6b9771b-a818-45d8-8c5e-168b79d04f1f",
   "metadata": {},
   "outputs": [
    {
     "data": {
      "image/png": "[encoded data removed]",
      "text/plain": [
       "<Figure size 432x288 with 1 Axes>"
      ]
     },
     "metadata": {
      "needs_background": "light"
     },
     "output_type": "display_data"
    }
   ],
   "source": [
    "initialState = np.array([0, 0, 0, 0], dtype=np.double)\n",
    "targetState = np.array([50, 100, 0, 0], dtype=np.double)\n",
    "\n",
    "sim = simulation.Simulation(\n",
    "    initialState,\n",
    "    targetState,\n",
    "    10.0,\n",
    "    nnController,\n",
    "    stopRadius=5.0)\n",
    "\n",
    "sim.runSimulation(50.0, quiet=True)\n",
    "simulation.plot_path(sim)"
   ]
  },
  {
   "cell_type": "code",
   "execution_count": null,
   "id": "5546b201-1581-4fa2-84f1-a7d588b860da",
   "metadata": {},
   "outputs": [],
   "source": []
  }
 ],
 "metadata": {
  "kernelspec": {
   "display_name": "Python 3 (ipykernel)",
   "language": "python",
   "name": "python3"
  },
  "language_info": {
   "codemirror_mode": {
    "name": "ipython",
    "version": 3
   },
   "file_extension": ".py",
   "mimetype": "text/x-python",
   "name": "python",
   "nbconvert_exporter": "python",
   "pygments_lexer": "ipython3",
   "version": "3.9.5"
  }
 },
 "nbformat": 4,
 "nbformat_minor": 5
}
